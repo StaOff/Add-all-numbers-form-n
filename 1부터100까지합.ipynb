{
 "cells": [
  {
   "cell_type": "markdown",
   "metadata": {},
   "source": [
    "# 1부터 100까지 모든 수를 더하면 얼마일까?"
   ]
  },
  {
   "cell_type": "markdown",
   "metadata": {},
   "source": [
    "S1. 1부터 100까지 하나하나 더해본다 : 1+2+3+4...."
   ]
  },
  {
   "cell_type": "markdown",
   "metadata": {},
   "source": [
    "S2. 다른 방법을 찾아본다."
   ]
  },
  {
   "cell_type": "markdown",
   "metadata": {},
   "source": [
    "#### 파이썬 코드로 계산해보자 "
   ]
  },
  {
   "cell_type": "markdown",
   "metadata": {},
   "source": [
    "1    / 2   / 4   ---- / 50  \n",
    "100  / 99  / 98  ---- / 51  \n",
    "101  / 101 / 101 ---- / 101  \n",
    "\n",
    "숫자가 1부터 100가지 있으니 짝을 지으면 총 50개 지을 수 있다.  \n",
    "짝 하나가 101이고, 그런 짝이 총 50개 있으니까  \n",
    "101 x 50 = 5050 "
   ]
  },
  {
   "cell_type": "markdown",
   "metadata": {},
   "source": [
    "1부터 \\(n\\)까지의 합:\n",
    "\n",
    "$$\n",
    "\\text{합} = \\frac{n \\times (n+1)}{2}\n",
    "$$\n",
    "\n",
    "100까지의 합\n",
    "\n",
    "$$\n",
    "\\frac{100 \\times (100+1)}{2} = \\frac{101 \\times (100)}{2} = 5050"
   ]
  },
  {
   "cell_type": "code",
   "execution_count": 7,
   "metadata": {},
   "outputs": [
    {
     "name": "stdout",
     "output_type": "stream",
     "text": [
      "1부터 1600까지의 합은 1280800입니다\n"
     ]
    }
   ],
   "source": [
    "def simpleSum():\n",
    "    n = int(input(\"몇까지의 합을 구해볼레?  \"))\n",
    "    if n > 0:\n",
    "        total_AS = (n * (n+1)) // 2\n",
    "        print(f\"1부터 {n}까지의 합은 {total_AS}입니다\")\n",
    "    else:\n",
    "        print(\"올바른 숫자 또는 0보다 큰 숫자를 입력하세요\")\n",
    "\n",
    "simpleSum()"
   ]
  }
 ],
 "metadata": {
  "kernelspec": {
   "display_name": ".venv",
   "language": "python",
   "name": "python3"
  },
  "language_info": {
   "codemirror_mode": {
    "name": "ipython",
    "version": 3
   },
   "file_extension": ".py",
   "mimetype": "text/x-python",
   "name": "python",
   "nbconvert_exporter": "python",
   "pygments_lexer": "ipython3",
   "version": "3.9.6"
  }
 },
 "nbformat": 4,
 "nbformat_minor": 2
}
